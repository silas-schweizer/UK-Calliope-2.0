{
 "cells": [
  {
   "cell_type": "code",
   "execution_count": 1,
   "metadata": {},
   "outputs": [],
   "source": [
    "import pandas as pd\n",
    "import geopandas as gpd\n",
    "import os\n",
    "import util\n",
    "idx = pd.IndexSlice"
   ]
  },
  {
   "cell_type": "code",
   "execution_count": 2,
   "metadata": {},
   "outputs": [],
   "source": [
    "#import gas demand profiles \n",
    "space_heat=pd.read_csv(snakemake.input[\"space_profile\"], header=[0,1,2], index_col=0)\n",
    "water_heat=pd.read_csv(snakemake.input[\"water_profile\"], header=[0,1,2], index_col=0)\n",
    "\n",
    "#normalise heat profiles\n",
    "space_heat=space_heat/space_heat.sum()\n",
    "water_heat=water_heat/water_heat.sum()\n",
    "\n",
    "#import household energy data\n",
    "household_energy =util.load_eurostat_tsv(snakemake.input[\"household_energy\"],\n",
    "                      index_names=['nrg_bal','siec','unit','geo'])\n",
    "\n",
    "#import gas demmand data\n",
    "gas_per_zone= pd.read_csv(snakemake.input[\"gas_zones_housetypes\"], header=0, index_col=0)"
   ]
  },
  {
   "cell_type": "code",
   "execution_count": 3,
   "metadata": {},
   "outputs": [],
   "source": [
    "#combine heat and water profiles\n",
    "gas_profile=pd.concat([water_heat, space_heat], axis=1).sort_index(axis=1)"
   ]
  },
  {
   "cell_type": "code",
   "execution_count": 4,
   "metadata": {
    "scrolled": true
   },
   "outputs": [],
   "source": [
    "#select consumption of natural gas in TJ in UK\n",
    "household_energy.reset_index()\n",
    "household_energy=household_energy.query('siec == \"G3000\" & geo == \"UK\" & unit == \"TJ\"').T\n",
    "household_energy.columns =['total', 'cooking', 'space_heating', 'water_heating']\n",
    "\n",
    "#calculate ratios\n",
    "household_energy['ratio_space_heating']=household_energy['space_heating']/household_energy['total']\n",
    "household_energy['ratio_water_heating']=household_energy['water_heating']/household_energy['total']\n"
   ]
  },
  {
   "cell_type": "code",
   "execution_count": 5,
   "metadata": {
    "scrolled": true
   },
   "outputs": [],
   "source": [
    "# create dataframe with anual gas consumption\n",
    "anual_gas= gas_per_zone.loc[:, ['non-domestic_weighted','gas_SFH','gas_MFH']]\n",
    "anual_gas.columns=['gas_COM','gas_SFH', 'gas_MFH']"
   ]
  },
  {
   "cell_type": "code",
   "execution_count": 6,
   "metadata": {},
   "outputs": [],
   "source": [
    "#calculate gas demand by house type and end use\n",
    "anual_gas['SFH_space_heating']= anual_gas['gas_SFH']*household_energy.loc['2014 ', 'ratio_space_heating']\n",
    "anual_gas['SFH_water_heating']= anual_gas['gas_SFH']*household_energy.loc['2014 ', 'ratio_water_heating']\n",
    "\n",
    "anual_gas['MFH_space_heating']= anual_gas['gas_MFH']*household_energy.loc['2014 ', 'ratio_space_heating']\n",
    "anual_gas['MFH_water_heating']= anual_gas['gas_MFH']*household_energy.loc['2014 ', 'ratio_water_heating']\n",
    "\n",
    "anual_gas['COM_space_heating']= anual_gas['gas_COM']*household_energy.loc['2014 ', 'ratio_space_heating']\n",
    "anual_gas['COM_water_heat ing']= anual_gas['gas_COM']*household_energy.loc['2014 ', 'ratio_water_heating']\n",
    "\n",
    "anual_gas.drop(['gas_COM','gas_SFH', 'gas_MFH'], axis=1, inplace=True)"
   ]
  },
  {
   "cell_type": "code",
   "execution_count": 7,
   "metadata": {
    "scrolled": true
   },
   "outputs": [],
   "source": [
    "#transform dataframe to multi-level column index dataframe\n",
    "anual_gas=anual_gas.T\n",
    "\n",
    "#add building types and end uses\n",
    "building_type=pd.Series(['SFH', 'SFH', 'MFH', 'MFH', 'COM', 'COM'], index=anual_gas.index)\n",
    "end_uses=pd.Series(['space_heat', 'water_heat', 'space_heat', 'water_heat', 'space_heat', 'water_heat'],\n",
    "                   index=anual_gas.index)\n",
    "anual_gas=anual_gas.join([building_type,end_uses])\n",
    "\n",
    "#set indices\n",
    "anual_gas.reset_index(drop=False)\n",
    "anual_gas.set_index([0, 1], inplace=True)\n",
    "anual_gas.index.names=['building', 'end-use']\n",
    "\n",
    "#stack to get multilevel Series\n",
    "anual_gas=anual_gas.stack()"
   ]
  },
  {
   "cell_type": "code",
   "execution_count": 8,
   "metadata": {},
   "outputs": [],
   "source": [
    "#make sure indices are identical\n",
    "anual_gas.index=anual_gas.index.swaplevel(2,0)\n",
    "anual_gas.index=anual_gas.index.swaplevel(2,1)\n",
    "\n",
    "gas_profile.columns.names=['country', 'building', 'end-use']\n",
    "anual_gas.index.names=['country', 'building', 'end-use']\n",
    "\n",
    "#multiply anual gas demand and export to .csv\n",
    "gas_profile=gas_profile.multiply(anual_gas)\n",
    "\n",
    "# calculate heat demand from gas demand\n",
    "heat_demand= (gas_profile*-0.97)\n",
    "#agregate based on zones\n",
    "heat_demand=heat_demand.sum(level='country', axis=1)\n",
    "\n",
    "#export to csv\n",
    "heat_demand.index=pd.to_datetime(heat_demand.index)\n",
    "heat_demand.to_csv(snakemake.output[0])"
   ]
  }
 ],
 "metadata": {
  "kernelspec": {
   "display_name": "geodata",
   "language": "python",
   "name": "geodata"
  },
  "language_info": {
   "codemirror_mode": {
    "name": "ipython",
    "version": 3
   },
   "file_extension": ".py",
   "mimetype": "text/x-python",
   "name": "python",
   "nbconvert_exporter": "python",
   "pygments_lexer": "ipython3",
   "version": "3.7.7"
  }
 },
 "nbformat": 4,
 "nbformat_minor": 4
}