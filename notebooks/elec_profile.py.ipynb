{
 "cells": [
  {
   "cell_type": "code",
   "execution_count": 1,
   "metadata": {},
   "outputs": [],
   "source": [
    "import pandas as pd\n",
    "import rasterio\n",
    "import geopandas as gpd\n",
    "import os\n",
    "import rasterstats\n",
    "import matplotlib.pyplot as plt\n",
    "import seaborn as sns\n",
    "import natsort\n",
    "from natsort import natsorted\n",
    "sns.set(rc={'figure.figsize':(15, 10)})"
   ]
  },
  {
   "cell_type": "code",
   "execution_count": 3,
   "metadata": {},
   "outputs": [],
   "source": [
    "snakemake   "
   ]
  },
  {
   "cell_type": "code",
   "execution_count": 2,
   "metadata": {},
   "outputs": [],
   "source": [
    "#get electricity consumption for lau units\n",
    "elec_lau1 = pd.read_excel(\n",
    "    'https://assets.publishing.service.gov.uk/government/uploads/system/uploads/attachment_data/file/853754/fxlsx',\n",
    "    sheet_name='2014r', header=[0, 1, 2])\n",
    "\n",
    "elec_lau1 = elec_lau1.set_index(\n",
    "    ('Sub-national electricity sales and numbers of customers, 2014 (1)(4)', 'Unnamed: 2_level_1', 'LA Code')\n",
    ")[('Sales (GWh)', 'All')].dropna()\n",
    "elec_lau1.index = elec_lau1.index.rename('LA Code')\n",
    "\n",
    "# Shapefile of the LAU1 units\n",
    "uk_lau1_units = gpd.read_file('https://opendata.arcgis.com/datasets/69cd46d7d2664e02b30c2f8dcc2bfaf7_0.geojson')\n",
    "uk_lau1_units = uk_lau1_units.set_index('LAD19CD')[['LAD19NM', 'geometry']]\n",
    "uk_lau1_units.index = uk_lau1_units.index.rename('LA Code')\n",
    "\n",
    "# join shapefile and electricity demand\n",
    "elec_lau1=gpd.GeoDataFrame(elec_lau1.join(uk_lau1_units).dropna(), geometry='geometry')\n",
    "\n",
    "#import grided population data\n",
    "with rasterio.open(r'C:\\Users\\silas\\kDrive\\Projects\\BA\\python\\geodata\\population-uk.tif') as pop_grid:\n",
    "        array = pop_grid.read(1)\n",
    "        crs = pop_grid.crs\n",
    "        affine = pop_grid.transform\n",
    "        \n",
    "#importing Calliope model zones \n",
    "calliope_zones=gpd.read_file(r'C:\\Users\\silas\\kDrive\\Projects\\BA\\python\\geodata\\calliope_zones\\zones.shp')\n"
   ]
  },
  {
   "cell_type": "code",
   "execution_count": 3,
   "metadata": {},
   "outputs": [],
   "source": [
    "#overlay\n",
    "lau_zones = gpd.overlay(calliope_zones.to_crs(crs), elec_lau1.to_crs(crs), how='intersection', keep_geom_type=False)\n",
    "\n",
    "#calculate population per snippet\n",
    "pop = rasterstats.zonal_stats(lau_zones.to_crs(crs), array, affine=affine, stats='sum', nodata=0)\n",
    "lau_zones['population'] = [i['sum'] for i in pop]\n",
    "\n",
    "# weighted average according to population\n",
    "lau_zones = lau_zones.set_index(['Name_1', 'LAD19NM'], drop=False)\n",
    "weights = lau_zones.population.div(lau_zones.sum(level='LAD19NM').population)\n",
    "lau_zones['Total consumption']=lau_zones['Total consumption']*weights\n",
    "elec_zones=lau_zones.groupby(level='Name_1').sum()\n",
    "elec_zones=elec_zones['Total consumption']"
   ]
  },
  {
   "cell_type": "code",
   "execution_count": 5,
   "metadata": {},
   "outputs": [],
   "source": [
    "#import grided population data\n",
    "with rasterio.open(r'C:\\Users\\silas\\kDrive\\Projects\\BA\\python\\geodata\\population-uk.tif') as pop_grid:\n",
    "        array = pop_grid.read(1)\n",
    "        crs = pop_grid.crs\n",
    "        affine = pop_grid.transform"
   ]
  },
  {
   "cell_type": "code",
   "execution_count": 4,
   "metadata": {
    "scrolled": true
   },
   "outputs": [],
   "source": [
    "#get load profile \n",
    "load_profile_all= pd.read_csv('load_profile_2014.csv', header=0, index_col=0)\n",
    "load_profile_all.index=pd.to_datetime(load_profile_all.index).tz_localize(None)\n",
    "load_profile=load_profile_all.loc['2014','GB_load_entsoe_power_statistics']\n",
    "\n",
    "#normalise based on anual load\n",
    "load_profile=load_profile/load_profile.sum()\n"
   ]
  },
  {
   "cell_type": "code",
   "execution_count": 6,
   "metadata": {},
   "outputs": [],
   "source": [
    "#create demand dataframe\n",
    "elec_demand=pd.concat([load_profile] * 20, axis=1)\n",
    "elec_demand.columns=elec_zones.index\n",
    "elec_demand=elec_demand.mul(elec_zones)\n",
    "elec_demand=elec_demand*-1\n",
    "elec_demand['EAST_ANGLIA']=0\n",
    "elec_demand['HORNSEA']=0\n",
    "elec_demand.index=pd.to_datetime(elec_demand.index)\n",
    "\n",
    "#export to csv\n",
    "elec_demand.to_csv('electricity_demand_2014.csv')"
   ]
  },
  {
   "cell_type": "code",
   "execution_count": 8,
   "metadata": {
    "scrolled": true
   },
   "outputs": [],
   "source": [
    "#prepare dataframe for plotting\n",
    "calliope_zones.set_index('Name_1', inplace=True)\n",
    "elec_zones=calliope_zones.join(elec_zones)\n",
    "elec_zones.drop(['DOGGER_BANK', 'HORNSEA', 'EAST_ANGLIA'], axis=0, inplace=True)\n",
    "\n",
    "elec_lau1.to_file(r'C:\\Users\\silas\\kDrive\\Projects\\BA\\python\\geodata\\elec_lau1.shp')\n",
    "elec_zones.to_file(r'C:\\Users\\silas\\kDrive\\Projects\\BA\\python\\geodata\\elec_zones.shp')"
   ]
  },
  {
   "cell_type": "code",
   "execution_count": 9,
   "metadata": {},
   "outputs": [],
   "source": [
    "elec_demand.drop(['EAST_ANGLIA', 'HORNSEA'], axis=1, inplace=True)"
   ]
  },
  {
   "cell_type": "code",
   "execution_count": 30,
   "metadata": {},
   "outputs": [],
   "source": [
    "#calculate average hourly demand during jan, feb, november and december\n",
    "\n",
    "elec_winter=elec_demand[((elec_demand.index >= '2014-01-01') & (elec_demand.index <= '2014-02-28')) \n",
    "    | ((elec_demand.index >= '2014-11-01') & (elec_demand.index < '2014-12-31'))]*-1\n",
    "\n",
    "#sort zones naturally\n",
    "elec_winter=elec_winter.T\n",
    "elec_winter=elec_winter.reindex(index=natsorted(elec_winter.index))\n",
    "elec_winter=elec_winter.T\n",
    "\n",
    "#plot\n",
    "\n",
    "ax=sns.boxplot(data=elec_winter, color='#4daf4a')\n",
    "ax.set_title('Hourly electrictity demand in Britain during winter', fontsize=25)\n",
    "ax.set_ylabel('GWh')\n",
    "ax.set_xlabel('Calliope Zone')\n",
    "ax.tick_params(axis='both', which='major', labelsize=15)\n",
    "themes.theme_fivethirtyeight()\n",
    "\n",
    "plt.savefig(r'C:\\Users\\silas\\kDrive\\Projects\\BA\\writing\\plots\\elec_winter_hourly.png', transparent=True)"
   ]
  }
 ],
 "metadata": {
  "kernelspec": {
   "display_name": "geodata",
   "language": "python",
   "name": "geodata"
  },
  "language_info": {
   "codemirror_mode": {
    "name": "ipython",
    "version": 3
   },
   "file_extension": ".py",
   "mimetype": "text/x-python",
   "name": "python",
   "nbconvert_exporter": "python",
   "pygments_lexer": "ipython3",
   "version": "3.7.7"
  }
 },
 "nbformat": 4,
 "nbformat_minor": 4
}
