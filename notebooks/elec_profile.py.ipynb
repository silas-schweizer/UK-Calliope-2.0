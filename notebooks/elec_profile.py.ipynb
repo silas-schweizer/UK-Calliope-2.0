{
 "cells": [
  {
   "cell_type": "code",
   "execution_count": 1,
   "metadata": {},
   "outputs": [],
   "source": [
    "import pandas as pd\n",
    "import rasterio\n",
    "import geopandas as gpd\n",
    "import os\n",
    "import rasterstats\n"
   ]
  },
  {
   "cell_type": "code",
   "execution_count": 2,
   "metadata": {},
   "outputs": [],
   "source": [
    "#get electricity consumption for lau units\n",
    "elec_lau1 = pd.read_excel(snakemake.input[\"elec_lau1\"],\n",
    "    sheet_name=str(snakemake.params.year) , header=[0, 1, 2])\n",
    "\n",
    "elec_lau1 = elec_lau1.set_index(\n",
    "    ('Sub-national electricity sales and numbers of customers, 2014 (1)(4)', 'Unnamed: 2_level_1', 'LA Code')\n",
    ")[('Sales (GWh)', 'All')].dropna()\n",
    "elec_lau1.index = elec_lau1.index.rename('LA Code')\n",
    "\n",
    "# Shapefile of the LAU1 units\n",
    "uk_lau1_units = gpd.read_file(snakemake.input[\"lau1_units\"])\n",
    "uk_lau1_units = uk_lau1_units.set_index('LAD19CD')[['LAD19NM', 'geometry']]\n",
    "uk_lau1_units.index = uk_lau1_units.index.rename('LA Code')\n",
    "\n",
    "# join shapefile and electricity demand\n",
    "elec_lau1=gpd.GeoDataFrame(elec_lau1.join(uk_lau1_units).dropna(), geometry='geometry')\n",
    "\n",
    "#import grided population data\n",
    "with rasterio.open(snakemake.input[\"pop_uk\"]) as pop_grid:\n",
    "        array = pop_grid.read(1)\n",
    "        crs = pop_grid.crs\n",
    "        affine = pop_grid.transform\n",
    "        \n",
    "#importing Calliope model zones \n",
    "calliope_zones=gpd.read_file(snakemake.input[\"calliope_zones\"])\n"
   ]
  },
  {
   "cell_type": "code",
   "execution_count": 3,
   "metadata": {},
   "outputs": [],
   "source": [
    "#overlay\n",
    "lau_zones = gpd.overlay(calliope_zones.to_crs(crs), elec_lau1.to_crs(crs), how='intersection', keep_geom_type=False)\n",
    "\n",
    "#calculate population per snippet\n",
    "pop = rasterstats.zonal_stats(lau_zones.to_crs(crs), array, affine=affine, stats='sum', nodata=0)\n",
    "lau_zones['population'] = [i['sum'] for i in pop]\n",
    "\n",
    "# weighted average according to population\n",
    "lau_zones = lau_zones.set_index(['Name_1', 'LAD19NM'], drop=False)\n",
    "weights = lau_zones.population.div(lau_zones.sum(level='LAD19NM').population)\n",
    "lau_zones['Total consumption']=lau_zones['Total consumption']*weights\n",
    "elec_zones=lau_zones.groupby(level='Name_1').sum()\n",
    "elec_zones=elec_zones['Total consumption']"
   ]
  },
  {
   "cell_type": "code",
   "execution_count": 4,
   "metadata": {
    "scrolled": true
   },
   "outputs": [],
   "source": [
    "#get load profile \n",
    "load_profile_all= pd.read_csv(snakemake.input[\"load_profile\"], header=0, index_col=0)\n",
    "load_profile_all.index=pd.to_datetime(load_profile_all.index).tz_localize(None)\n",
    "#choose year\n",
    "load_profile=load_profile_all.loc[str(snakemake.params.year),'GB_GBN_load_actual_entsoe_transparency']\n",
    "\n",
    "#normalise based on anual load\n",
    "load_profile=load_profile/load_profile.sum()\n"
   ]
  },
  {
   "cell_type": "code",
   "execution_count": 6,
   "metadata": {},
   "outputs": [],
   "source": [
    "#create demand dataframe\n",
    "elec_demand=pd.concat([load_profile] * 20, axis=1)\n",
    "elec_demand.columns=elec_zones.index\n",
    "elec_demand=elec_demand.mul(elec_zones)\n",
    "elec_demand=elec_demand*-1\n",
    "elec_demand['EAST_ANGLIA']=0\n",
    "elec_demand['HORNSEA']=0\n",
    "elec_demand.index=pd.to_datetime(elec_demand.index)\n",
    "\n",
    "#export to csv\n",
    "elec_demand.to_csv(snakemake.output[0])"
   ]
  }
 ],
 "metadata": {
  "kernelspec": {
   "display_name": "Python (ex)",
   "language": "python",
   "name": "ex"
  },
  "language_info": {
   "codemirror_mode": {
    "name": "ipython",
    "version": 3
   },
   "file_extension": ".py",
   "mimetype": "text/x-python",
   "name": "python",
   "nbconvert_exporter": "python",
   "pygments_lexer": "ipython3",
   "version": "3.7.7-final"
  }
 },
 "nbformat": 4,
 "nbformat_minor": 4
}