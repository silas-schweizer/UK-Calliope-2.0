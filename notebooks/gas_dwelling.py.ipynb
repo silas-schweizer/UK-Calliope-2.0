{
 "cells": [
  {
   "cell_type": "code",
   "execution_count": 1,
   "metadata": {},
   "outputs": [],
   "source": [
    "import pandas as pd\n",
    "import geopandas as gpd\n",
    "import rasterio\n",
    "import rasterstats\n",
    "import util"
   ]
  },
  {
   "cell_type": "code",
   "execution_count": 2,
   "metadata": {
    "scrolled": true
   },
   "outputs": [],
   "source": [
    "#import calliope zones\n",
    "calliope_zones=gpd.read_file(snakemake.input[\"calliope_zones\"])\n",
    "\n",
    "#import gas demand per zone\n",
    "gas_per_zone=pd.read_csv(snakemake.input[\"gas_zones\"], index_col=0)\n",
    "\n",
    "#import nuts3 zones\n",
    "nuts3=gpd.read_file(snakemake.input[\"nuts3_shapefile\"])\n",
    "nuts3=nuts3.loc[nuts3['CNTR_CODE'] =='UK']\n",
    "nuts3.set_index('NUTS_ID', inplace=True)\n",
    "\n",
    "#import population raster\n",
    "with rasterio.open(snakemake.input[\"pop_uk\"]) as pop_grid:\n",
    "    array = pop_grid.read(1)\n",
    "    crs = pop_grid.crs\n",
    "    affine = pop_grid.transform\n",
    "#import dwelling data from eurostats\n",
    "nuts3_dwelling= util.load_eurostat_tsv(snakemake.input[\"nuts3_dwelling\"],\n",
    "                                  index_names=[\"housing\",\"building\",\"unit\", \"time\"])"
   ]
  },
  {
   "cell_type": "code",
   "execution_count": 3,
   "metadata": {
    "scrolled": true
   },
   "outputs": [],
   "source": [
    "#select data from UK and convert to single index\n",
    "nuts3_dwelling.reset_index(inplace=True)\n",
    "nuts3_dwelling.query('housing == \"DW\"', inplace=True)\n",
    "nuts3_dwelling=nuts3_dwelling.loc[:,nuts3_dwelling.columns.str.contains(\"UK\")].T\n",
    "nuts3_dwelling.index= nuts3_dwelling.index.str.strip()"
   ]
  },
  {
   "cell_type": "code",
   "execution_count": 4,
   "metadata": {},
   "outputs": [],
   "source": [
    "#sum up dwellings by single or multi-family\n",
    "nuts3_dwelling['RES']= nuts3_dwelling.iloc[:, 1]\n",
    "nuts3_dwelling['SFH']= nuts3_dwelling.iloc[:, 2]\n",
    "nuts3_dwelling['MFH']= nuts3_dwelling.iloc[:, 3]+ nuts3_dwelling.iloc[:, 4]\n",
    "nuts3_dwelling=nuts3_dwelling.dropna()"
   ]
  },
  {
   "cell_type": "code",
   "execution_count": 6,
   "metadata": {},
   "outputs": [],
   "source": [
    "#join dwelling stats with shapefile\n",
    "nuts3_dwelling = nuts3_dwelling.join(nuts3)\n",
    "nuts3_dwelling = nuts3_dwelling[nuts3_dwelling['geometry'].notnull()]\n",
    "nuts3_dwelling = gpd.GeoDataFrame(\n",
    "    nuts3_dwelling, geometry='geometry', crs=crs)"
   ]
  },
  {
   "cell_type": "code",
   "execution_count": 7,
   "metadata": {},
   "outputs": [],
   "source": [
    "#overlay \n",
    "nuts3_dwelling = gpd.overlay(calliope_zones.to_crs(crs), nuts3_dwelling.to_crs(crs), how='intersection', keep_geom_type=False)\n",
    "\n",
    "#calculate population of each snippet\n",
    "pop=rasterstats.zonal_stats(nuts3_dwelling.to_crs(crs), array, affine=affine, stats='sum', nodata=0)\n",
    "nuts3_dwelling['population']= [i['sum'] for i in pop]\n",
    " \n",
    "#calculate weighted average\n",
    "nuts3_dwelling = nuts3_dwelling.set_index(['Name_1', 'NUTS_NAME'], drop=True)\n",
    "weights = nuts3_dwelling.population.div(nuts3_dwelling.sum(level='NUTS_NAME').population)\n",
    "nuts3_dwelling['SFH_weighted'] = weights*nuts3_dwelling['SFH']\n",
    "nuts3_dwelling['MFH_weighted'] = weights*nuts3_dwelling['MFH']\n",
    "\n",
    "zones_dwelling=nuts3_dwelling.groupby(level='Name_1').sum()\n"
   ]
  },
  {
   "cell_type": "code",
   "execution_count": 8,
   "metadata": {},
   "outputs": [],
   "source": [
    "#calculate ratios\n",
    "zones_dwelling['RES_TOT']= zones_dwelling['SFH_weighted']+zones_dwelling['MFH_weighted']\n",
    "zones_dwelling['Ratio_SFH']=zones_dwelling['SFH_weighted']/zones_dwelling['RES_TOT']\n",
    "zones_dwelling['Ratio_MFH']=zones_dwelling['MFH_weighted']/zones_dwelling['RES_TOT']\n",
    "\n",
    "#merge dwelling and gas consumption data\n",
    "zones_dwelling['domestic_weighted'] = gas_per_zone['domestic_weighted']\n",
    "zones_dwelling['non-domestic_weighted']= gas_per_zone['non-domestic_weighted']\n",
    "\n",
    "#calculate gas consumption by house type\n",
    "zones_dwelling['gas_SFH']=zones_dwelling['domestic_weighted']*zones_dwelling['Ratio_SFH']\n",
    "zones_dwelling['gas_MFH']=zones_dwelling['domestic_weighted']*zones_dwelling['Ratio_MFH']\n",
    "\n",
    "#export to csv\n",
    "zones_dwelling_gas=zones_dwelling.loc[:,['non-domestic_weighted', 'gas_SFH', 'gas_MFH']]\n",
    "zones_dwelling_gas.to_csv(snakemake.output[0])"
   ]
  }
 ],
 "metadata": {
  "kernelspec": {
   "display_name": "geodata",
   "language": "python",
   "name": "geodata"
  },
  "language_info": {
   "codemirror_mode": {
    "name": "ipython",
    "version": 3
   },
   "file_extension": ".py",
   "mimetype": "text/x-python",
   "name": "python",
   "nbconvert_exporter": "python",
   "pygments_lexer": "ipython3",
   "version": "3.7.7"
  }
 },
 "nbformat": 4,
 "nbformat_minor": 4
}