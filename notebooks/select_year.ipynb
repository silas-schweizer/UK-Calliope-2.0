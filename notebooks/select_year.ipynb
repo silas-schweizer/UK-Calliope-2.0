{
 "cells": [
  {
   "cell_type": "code",
   "execution_count": 1,
   "id": "spiritual-blame",
   "metadata": {},
   "outputs": [],
   "source": [
    "import pandas as pd"
   ]
  },
  {
   "cell_type": "code",
   "execution_count": 4,
   "id": "engaging-casino",
   "metadata": {},
   "outputs": [
    {
     "name": "stderr",
     "output_type": "stream",
     "text": [
      "/home/silass/anaconda3/envs/geodata/lib/python3.7/site-packages/IPython/core/interactiveshell.py:3166: DtypeWarning: Columns (216) have mixed types.Specify dtype option on import or set low_memory=False.\n",
      "  interactivity=interactivity, compiler=compiler, result=result)\n"
     ]
    }
   ],
   "source": [
    "load_profile_all= pd.read_csv('time_series_60min_singleindex.csv', header=0, index_col=0)\n",
    "load_profile_all.index=pd.to_datetime(load_profile_all.index).tz_localize(None)\n",
    "load_profile=load_profile_all.loc['2014','GB_load_entsoe_power_statistics']\n",
    "load_profile.index=pd.to_datetime(load_profile.index)\n",
    "loc['2014'].to_csv('load_profile_2014.csv')"
   ]
  }
 ],
 "metadata": {
  "kernelspec": {
   "display_name": "geodata",
   "language": "python",
   "name": "geodata"
  },
  "language_info": {
   "codemirror_mode": {
    "name": "ipython",
    "version": 3
   },
   "file_extension": ".py",
   "mimetype": "text/x-python",
   "name": "python",
   "nbconvert_exporter": "python",
   "pygments_lexer": "ipython3",
   "version": "3.7.7"
  }
 },
 "nbformat": 4,
 "nbformat_minor": 5
}
