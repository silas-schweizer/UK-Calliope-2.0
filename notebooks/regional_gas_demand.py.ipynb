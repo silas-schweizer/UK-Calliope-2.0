{
 "cells": [
  {
   "cell_type": "code",
   "execution_count": 1,
   "metadata": {},
   "outputs": [],
   "source": [
    "import pandas as pd\n",
    "import geopandas as gpd\n",
    "import rasterio\n",
    "from rasterio.plot import show\n",
    "import rasterstats"
   ]
  },
  {
   "cell_type": "code",
   "execution_count": 1,
   "metadata": {},
   "outputs": [
    {
     "output_type": "error",
     "ename": "NameError",
     "evalue": "name 'pd' is not defined",
     "traceback": [
      "\u001b[0;31m---------------------------------------------------------------------------\u001b[0m",
      "\u001b[0;31mNameError\u001b[0m                                 Traceback (most recent call last)",
      "\u001b[0;32m<ipython-input-1-e1492750859a>\u001b[0m in \u001b[0;36m<module>\u001b[0;34m\u001b[0m\n\u001b[1;32m      1\u001b[0m \u001b[0;31m#importing demmand data\u001b[0m\u001b[0;34m\u001b[0m\u001b[0;34m\u001b[0m\u001b[0;34m\u001b[0m\u001b[0m\n\u001b[0;32m----> 2\u001b[0;31m gas_lau1_con_all=pd.read_csv(snakemake.input[\"gas_lau1\"],\n\u001b[0m\u001b[1;32m      3\u001b[0m encoding = \"ISO-8859-1\", header=0, index_col=[1,3])\n\u001b[1;32m      4\u001b[0m \u001b[0;34m\u001b[0m\u001b[0m\n\u001b[1;32m      5\u001b[0m \u001b[0mgas_lau1_con_all\u001b[0m\u001b[0;34m.\u001b[0m\u001b[0miloc\u001b[0m\u001b[0;34m[\u001b[0m\u001b[0;34m:\u001b[0m\u001b[0;34m,\u001b[0m \u001b[0;36m4\u001b[0m\u001b[0;34m:\u001b[0m\u001b[0;36m16\u001b[0m\u001b[0;34m]\u001b[0m\u001b[0;34m=\u001b[0m \u001b[0mgas_lau1_con_all\u001b[0m\u001b[0;34m.\u001b[0m\u001b[0miloc\u001b[0m\u001b[0;34m[\u001b[0m\u001b[0;34m:\u001b[0m\u001b[0;34m,\u001b[0m\u001b[0;36m4\u001b[0m\u001b[0;34m:\u001b[0m\u001b[0;36m16\u001b[0m\u001b[0;34m]\u001b[0m\u001b[0;34m.\u001b[0m\u001b[0mapply\u001b[0m\u001b[0;34m(\u001b[0m\u001b[0mpd\u001b[0m\u001b[0;34m.\u001b[0m\u001b[0mto_numeric\u001b[0m\u001b[0;34m,\u001b[0m \u001b[0merrors\u001b[0m\u001b[0;34m=\u001b[0m\u001b[0;34m'coerce'\u001b[0m\u001b[0;34m)\u001b[0m\u001b[0;34m\u001b[0m\u001b[0;34m\u001b[0m\u001b[0m\n",
      "\u001b[0;31mNameError\u001b[0m: name 'pd' is not defined"
     ]
    }
   ],
   "source": [
    "#importing demmand data\n",
    "gas_lau1_con_all=pd.read_csv(snakemake.input[\"gas_lau1\"],\n",
    "encoding = \"ISO-8859-1\", header=0, index_col=[1,3])\n",
    "\n",
    "gas_lau1_con_all.iloc[:, 4:16]= gas_lau1_con_all.iloc[:,4:16].apply(pd.to_numeric, errors='coerce')\n",
    "\n",
    "#import grided population data\n",
    "with rasterio.open(snakemake.input[\"pop_uk\"]) as pop_grid:\n",
    "        array = pop_grid.read(1)\n",
    "        crs = pop_grid.crs \n",
    "        affine = pop_grid.transform\n",
    "        \n",
    "#importing Calliope model zones \n",
    "calliope_zones=gpd.read_file(snakemake.input[\"calliope_zones\"], indexcol=0)\n",
    "\n",
    "#importing shapefile of local authorities\n",
    "uk_lau1_units=gpd.read_file(snakemake.input[\"lau1_units\"])\n",
    "uk_lau1_units = uk_lau1_units.set_index(\"LAD19NM\", drop=False)\n",
    "\n",
    "#only select data from specified year\n",
    "gas_lau1_con= gas_lau1_con_all.query('Year == @snakemake.params.year').reset_index()\n",
    "\n",
    "#join on shapefile\n",
    "gas_lau1_con.set_index('la.name', inplace=True)\n",
    "lau_gas_shape = uk_lau1_units.join(gas_lau1_con)"
   ]
  },
  {
   "cell_type": "code",
   "execution_count": 3,
   "metadata": {},
   "outputs": [],
   "source": [
    "#overlay\n",
    "lau_zones = gpd.overlay(calliope_zones.to_crs(crs), lau_gas_shape.to_crs(crs), how='intersection', keep_geom_type=False)\n",
    "\n",
    "#calculate population per snippet\n",
    "pop = rasterstats.zonal_stats(lau_zones.to_crs(crs), array, affine=affine, stats='sum', nodata=0)\n",
    "lau_zones['population'] = [i['sum'] for i in pop]\n",
    "\n",
    "# weighted average according to population\n",
    "lau_zones = lau_zones.set_index(['LAD19NM', 'LAD19CD'], drop=False)\n",
    "weights = lau_zones.population.div(lau_zones.sum(level='LAD19CD').population)\n",
    "lau_zones['domestic_weighted']=lau_zones['domestic.sales.gwh']*weights\n",
    "lau_zones['non-domestic_weighted']=lau_zones['non.domestic.sales.gwh']*weights"
   ]
  },
  {
   "cell_type": "code",
   "execution_count": 2,
   "metadata": {},
   "outputs": [
    {
     "output_type": "error",
     "ename": "NameError",
     "evalue": "name 'lau_zones' is not defined",
     "traceback": [
      "\u001b[0;31m---------------------------------------------------------------------------\u001b[0m",
      "\u001b[0;31mNameError\u001b[0m                                 Traceback (most recent call last)",
      "\u001b[0;32m<ipython-input-2-3678902a27f2>\u001b[0m in \u001b[0;36m<module>\u001b[0;34m\u001b[0m\n\u001b[1;32m      1\u001b[0m \u001b[0;31m#sum up per zone and export\u001b[0m\u001b[0;34m\u001b[0m\u001b[0;34m\u001b[0m\u001b[0;34m\u001b[0m\u001b[0m\n\u001b[0;32m----> 2\u001b[0;31m \u001b[0mgas_per_zone\u001b[0m\u001b[0;34m=\u001b[0m\u001b[0mlau_zones\u001b[0m\u001b[0;34m.\u001b[0m\u001b[0mloc\u001b[0m\u001b[0;34m[\u001b[0m\u001b[0;34m:\u001b[0m\u001b[0;34m,\u001b[0m\u001b[0;34m[\u001b[0m\u001b[0;34m'domestic_weighted'\u001b[0m\u001b[0;34m,\u001b[0m\u001b[0;34m'non-domestic_weighted'\u001b[0m\u001b[0;34m]\u001b[0m\u001b[0;34m]\u001b[0m\u001b[0;34m.\u001b[0m\u001b[0mgroupby\u001b[0m\u001b[0;34m(\u001b[0m\u001b[0mlevel\u001b[0m\u001b[0;34m=\u001b[0m\u001b[0;34m'Name_1'\u001b[0m\u001b[0;34m)\u001b[0m\u001b[0;34m.\u001b[0m\u001b[0msum\u001b[0m\u001b[0;34m(\u001b[0m\u001b[0;34m)\u001b[0m\u001b[0;34m\u001b[0m\u001b[0;34m\u001b[0m\u001b[0m\n\u001b[0m\u001b[1;32m      3\u001b[0m \u001b[0mgas_per_zone\u001b[0m\u001b[0;34m.\u001b[0m\u001b[0mto_csv\u001b[0m\u001b[0;34m(\u001b[0m\u001b[0;34mr'C:\\Users\\silas\\kDrive\\Projects\\BA\\python\\heat profiles\\gas_per_Zone_2014.csv'\u001b[0m\u001b[0;34m)\u001b[0m\u001b[0;34m\u001b[0m\u001b[0;34m\u001b[0m\u001b[0m\n",
      "\u001b[0;31mNameError\u001b[0m: name 'lau_zones' is not defined"
     ]
    }
   ],
   "source": [
    "#sum up per zone and export\n",
    "gas_per_zone=lau_zones.loc[:,['domestic_weighted','non-domestic_weighted']].groupby(level='LAD19NM').sum()\n",
    "gas_per_zone.to_csv(snakemake.output[0])"
   ]
  }
 ],
 "metadata": {
  "kernelspec": {
   "display_name": "geodata",
   "language": "python",
   "name": "geodata"
  },
  "language_info": {
   "codemirror_mode": {
    "name": "ipython",
    "version": 3
   },
   "file_extension": ".py",
   "mimetype": "text/x-python",
   "name": "python",
   "nbconvert_exporter": "python",
   "pygments_lexer": "ipython3",
   "version": "3.7.7-final"
  }
 },
 "nbformat": 4,
 "nbformat_minor": 4
}